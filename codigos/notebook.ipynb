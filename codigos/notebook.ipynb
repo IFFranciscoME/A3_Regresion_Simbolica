{
 "cells": [
  {
   "cell_type": "markdown",
   "metadata": {
    "collapsed": true
   },
   "source": [
    "<img src=\"http://oci02.img.iteso.mx/identidad_de_instancia_2018/ITESO/Logos%20ITESO/Logo-ITESO-Principal.jpg\">"
   ]
  },
  {
   "cell_type": "markdown",
   "metadata": {},
   "source": [
    "<center><font color=#555555><font size=6> Ingeniería Financiera </font> <br> <br>\n",
    "\n",
    "<center><font color=#555555><font size=5> ITE1731 - Microestructura y Sistemas de Trading </font> <br> <br> <br>\n",
    "\n",
    "<center><font color=#555555><font size=5> I.F. Nombre Nombre Apellido Apellido </font> <br> <br>\n",
    "   \n",
    "<center> <font color= #555555> <font size = 4> Septiembre 2020 </a> | <font color= #555555> <font size = 4> Repositorio: <a href='https://github.com/'>Link</a></font>"
   ]
  },
  {
   "cell_type": "markdown",
   "metadata": {},
   "source": [
    "<br>"
   ]
  },
  {
   "cell_type": "markdown",
   "metadata": {},
   "source": [
    "---"
   ]
  },
  {
   "cell_type": "markdown",
   "metadata": {},
   "source": [
    "<br>"
   ]
  },
  {
   "cell_type": "markdown",
   "metadata": {},
   "source": [
    "<br>"
   ]
  },
  {
   "cell_type": "markdown",
   "metadata": {},
   "source": [
    "<center> <font color= #555555> <font size = 7> Laboratorio 1 </font> <br> <br> <font color= #555555> <font size = 5> Inversión del Capital </font>"
   ]
  },
  {
   "cell_type": "markdown",
   "metadata": {},
   "source": [
    "# <font color= #555555> <font size = 5> Abstract </font>"
   ]
  },
  {
   "cell_type": "markdown",
   "metadata": {},
   "source": [
    "<font color= #6B6B6B> <font size = 2> Este documento fue elaborado por tu **nombre completo**, como un trabajo parcial para la materia de **Microestructura y Sistemas de Trading - ITE1731**, la cual es parte del curriculum de la licenciatura en Ingeniería Financiera, ofertada por la universidad **ITESO**. En el presente trabajo se plantea la respuesta a la siguiente pregutna: *¿Qué estrategia de inversión propondrías si tu trabajo fuera administrar 1 Millón de pesos?*</font>"
   ]
  },
  {
   "cell_type": "markdown",
   "metadata": {},
   "source": [
    "<br>"
   ]
  },
  {
   "cell_type": "markdown",
   "metadata": {},
   "source": [
    "# <font color= #6B6B6B> <font size = 6> 0. Librerías y Dependencias </font>"
   ]
  },
  {
   "cell_type": "markdown",
   "metadata": {},
   "source": [
    "<hr style=\"border:0.02in solid gray\"> </hr>"
   ]
  },
  {
   "cell_type": "markdown",
   "metadata": {},
   "source": [
    "# <font color= #6B6B6B> <font size = 5> 0.1 Librerías </font> <font color= #555555>"
   ]
  },
  {
   "cell_type": "markdown",
   "metadata": {},
   "source": [
    "Para correr este notebook es necesario tener instaladas y/o en el archivo _requirements.txt_ las siguientes librerías :"
   ]
  },
  {
   "cell_type": "markdown",
   "metadata": {},
   "source": [
    "- pandas>=1.1.1 \n",
    "- numpy>=1.19.1\n",
    "- jupyter>=1.0.0\n",
    "- yfinance>=0.1.54"
   ]
  },
  {
   "cell_type": "markdown",
   "metadata": {},
   "source": [
    "# <font color= #6B6B6B> <font size = 5> 0.2 Dependencias </font> <font color= #555555>"
   ]
  },
  {
   "cell_type": "markdown",
   "metadata": {},
   "source": [
    "Para correr este notebook es necesario contar con los siguientes archivos y dependencias externas:"
   ]
  },
  {
   "cell_type": "markdown",
   "metadata": {},
   "source": [
    "- files/precios.csv : Precios históricos\n",
    "- files/datos.txt : Otros datos históricos"
   ]
  },
  {
   "cell_type": "markdown",
   "metadata": {},
   "source": [
    "<br>"
   ]
  },
  {
   "cell_type": "markdown",
   "metadata": {},
   "source": [
    "# <font color= #6B6B6B> <font size = 6> 1. Introducción </font>"
   ]
  },
  {
   "cell_type": "markdown",
   "metadata": {},
   "source": [
    "<hr style=\"border:0.02in solid gray\"> </hr>"
   ]
  },
  {
   "cell_type": "markdown",
   "metadata": {},
   "source": []
  },
  {
   "cell_type": "markdown",
   "metadata": {},
   "source": [
    "<br>"
   ]
  },
  {
   "cell_type": "markdown",
   "metadata": {},
   "source": [
    "# <font color= #6B6B6B> <font size = 6> 2. Objetivos </font>"
   ]
  },
  {
   "cell_type": "markdown",
   "metadata": {},
   "source": [
    "<hr style=\"border:0.02in solid gray\"> </hr>"
   ]
  },
  {
   "cell_type": "markdown",
   "metadata": {},
   "source": []
  },
  {
   "cell_type": "markdown",
   "metadata": {},
   "source": [
    "<br>"
   ]
  },
  {
   "cell_type": "markdown",
   "metadata": {},
   "source": [
    "# <font color= #6B6B6B> <font size = 6> 3. Datos </font>"
   ]
  },
  {
   "cell_type": "markdown",
   "metadata": {},
   "source": [
    "<hr style=\"border:0.02in solid gray\"> </hr>"
   ]
  },
  {
   "cell_type": "markdown",
   "metadata": {},
   "source": []
  },
  {
   "cell_type": "code",
   "execution_count": 1,
   "metadata": {},
   "outputs": [],
   "source": [
    "# En esta sección es opcional incluir código para mostrar/visualizar\n",
    "# los datos con los que se trabajó en el laboratorio"
   ]
  },
  {
   "cell_type": "markdown",
   "metadata": {},
   "source": [
    "<br>"
   ]
  },
  {
   "cell_type": "markdown",
   "metadata": {},
   "source": [
    "# <font color= #6B6B6B> <font size = 6> 4. Procesos </font>"
   ]
  },
  {
   "cell_type": "markdown",
   "metadata": {},
   "source": [
    "<hr style=\"border:0.02in solid gray\"> </hr>"
   ]
  },
  {
   "cell_type": "markdown",
   "metadata": {},
   "source": []
  },
  {
   "cell_type": "code",
   "execution_count": 1,
   "metadata": {},
   "outputs": [
    {
     "name": "stdout",
     "output_type": "stream",
     "text": [
      "<class 'pandas.core.frame.DataFrame'>\n",
      "{'linear': {'rss': 65418.983101844635, 'intercept': 0.0, 'coef': array([ 1.49864342e+01,  6.82162899e+01, -4.99083945e+01, -7.12500878e+13,\n",
      "        2.57156421e+13, -2.04675864e+14,  1.46973350e+15, -3.57866309e+13,\n",
      "        1.54320358e+14,  6.64793778e+14,  1.81432620e+14, -6.60516925e+14,\n",
      "       -3.30374583e+14, -2.57496647e+14,  2.50757911e+13,  3.66816427e+13,\n",
      "        3.85527867e+14,  1.99998400e+14,  4.35445342e+14,  2.43582550e+13,\n",
      "       -5.00363320e+14,  7.54657620e+13,  1.77674868e+14,  2.48474477e+14,\n",
      "       -1.72979066e+14, -7.67572237e+14, -2.25744227e+13, -1.16161807e+15,\n",
      "        4.05691960e+13, -4.08064029e+13, -4.16394328e+13, -2.42926644e+14,\n",
      "       -3.11943184e+14, -3.31044826e+14,  3.08948541e+14, -3.45292639e+11,\n",
      "       -2.23172659e+13, -8.76426277e+13,  1.76390682e+12,  1.10136620e+14,\n",
      "       -1.28933705e+14, -6.36556228e+14, -9.02026214e+10,  3.74241045e+13,\n",
      "       -2.38619031e+14, -2.77422320e+13,  6.77648340e+14, -2.22453274e+14,\n",
      "        3.44425198e+14, -3.59222570e+12,  2.33498651e+14, -2.45574915e+14,\n",
      "        3.19582148e+13, -6.95447902e+13,  9.86382091e+14])}, 'rige': {'rss': 66738.77753849771, 'intercept': 0.0, 'coef': array([ 1.49610313e+01,  6.76965393e+01, -5.03796785e+01, -6.88104086e+00,\n",
      "       -3.05810685e+01,  3.79223540e+01,  2.19249125e+00,  9.05738920e+00,\n",
      "        2.09648476e+01, -9.09520279e+00, -1.55678121e+00, -1.31347627e+01,\n",
      "        1.25530300e+01, -1.98760708e+00, -2.59237833e+01,  8.36889415e+00,\n",
      "       -2.04437103e+00, -7.70130656e+00, -7.67282395e+00,  5.84824702e+00,\n",
      "       -2.13261655e+00,  9.13767939e+00,  8.35423089e+00, -2.93758782e+00,\n",
      "       -4.32418199e+00, -4.06452505e+00,  9.38748511e-01, -2.44482542e+00,\n",
      "        1.63576943e+01, -5.22691392e+00,  1.92991201e+00, -8.52822956e-01,\n",
      "       -4.91055945e+00,  3.01070362e+00, -1.66135341e+00, -2.09965605e+01,\n",
      "        5.82492701e+00,  8.38454378e+00, -3.76622397e+00, -3.06983788e+00,\n",
      "        3.61542728e+00,  4.48666806e-02,  2.84287140e+01,  1.57111612e+00,\n",
      "       -1.53103421e+00,  2.92539787e-01, -2.46575896e+00,  2.50230370e+00,\n",
      "       -1.99391390e-01, -7.78524983e+00,  1.27081178e+00, -1.69687796e+00,\n",
      "       -6.14611878e-01, -2.02578419e+00,  1.59876835e+00])}, 'lasso': {'rss': 66739.03290182565, 'intercept': 0.0, 'coef': array([ 14.63447041,  67.69228389, -50.35562295, -14.57922409,\n",
      "       -51.41992808,  50.5776005 ,  -0.        ,   4.88575217,\n",
      "        -0.        ,  -0.93295128,  -0.        ,  -0.88969341,\n",
      "         0.        ,  -0.        , -29.30377835,  -1.03548099,\n",
      "         0.        ,  -0.        ,  -1.98531382,   5.44978194,\n",
      "        -0.        ,   7.44625592,   1.08327444,  -0.39628155,\n",
      "        -0.        ,  -0.        ,   0.        ,  -0.        ,\n",
      "        15.6023451 , -10.93980414,   4.67586225,   0.        ,\n",
      "        -0.        ,   0.        ,  -0.        , -21.46806312,\n",
      "         2.25891497,  10.48284096,  -0.        ,  -0.        ,\n",
      "         0.        ,   0.        ,  28.27386323,  -0.30128497,\n",
      "        -0.46435018,   0.        ,  -0.        ,   0.        ,\n",
      "        -0.        ,  -7.78111922,   0.52415556,  -1.30711344,\n",
      "        -0.        ,  -0.        ,   0.        ])}, 'elasticnet': {'rss': 66756.48545080962, 'intercept': 0.0, 'coef': array([ 13.0978038 ,  67.41810787, -49.92644728,  -6.39127415,\n",
      "       -31.19438357,  38.67875385,   1.1303831 ,   7.56897116,\n",
      "        19.96169974,  -8.87561322,  -1.05739995, -13.29872008,\n",
      "        12.43078486,  -1.33502123, -24.92282757,   7.26756602,\n",
      "        -1.65639415,  -7.07909988,  -7.65747004,   5.319978  ,\n",
      "        -1.60631646,   8.03413618,   7.48278169,  -2.42377531,\n",
      "        -3.6568101 ,  -3.89030701,   0.08968496,  -1.97677065,\n",
      "        15.37183859,  -5.59026619,   2.04541121,  -0.13648274,\n",
      "        -5.00273938,   2.90567821,  -0.88319676, -19.90357836,\n",
      "         5.31634752,   8.47942929,  -2.99384394,  -2.9275157 ,\n",
      "         3.62528826,   0.        ,  27.04312028,   1.1085229 ,\n",
      "        -1.0705632 ,   0.        ,  -2.12034472,   2.16065216,\n",
      "        -0.        ,  -7.16419967,   1.02381635,  -1.6286974 ,\n",
      "        -0.        ,  -1.46759955,   0.8164452 ])}}\n"
     ]
    }
   ],
   "source": [
    "# aqui se incluye toda la secuencia de main.py.\n",
    "# tomando los pasos en los que fuiste haciendo todos los calculos\n",
    "# y poniendo cada uno como un subtitulo con markdown de nivel dos, así ## subtitulo de mi paso\n",
    "\n",
    "import sympy as sp\n",
    "import numpy as np\n",
    "import pandas as pd\n",
    "import functions as fn\n",
    "from data import m6e1\n",
    "from visualizations import vs\n",
    "\n",
    "\n",
    "pd.set_option('display.max_rows', None)                   # sin limite de renglones maximos\n",
    "pd.set_option('display.max_columns', None)                # sin limite de columnas maximas\n",
    "pd.set_option('display.width', None)                      # sin limite el ancho del display\n",
    "pd.set_option('display.expand_frame_repr', False)         # visualizar todas las columnas\n",
    "\n",
    "# ------------------------------------------------------------------------------------------ Obtain data -- #\n",
    "\n",
    "# m6e : Micro Eur/Usd Future: https://www.cmegroup.com/trading/fx/e-micros/e-micro-euro.html\n",
    "# obtained with Quandl / Chris free data set. Gathers the data from webscraping cmegroup's future data\n",
    "data = m6e1.tail(160)\n",
    "data.tail()\n",
    "\n",
    "# -- ------------------------------------------------------------------------- Exploratory Data Analysis -- #\n",
    "\n",
    "# Description table\n",
    "data.describe()\n",
    "\n",
    "# OHLC plot\n",
    "p_theme = {'color_1': '#ABABAB', 'color_2': '#ABABAB', 'color_3': '#ABABAB', 'font_color_1': '#ABABAB',\n",
    "           'font_size_1': 12, 'font_size_2': 16}\n",
    "p_dims = {'width': 1450, 'height': 800}\n",
    "p_vlines = [data['timestamp'].head(1), data['timestamp'].tail(1)]\n",
    "p_labels = {'title': 'Main title', 'x_title': 'x axis title', 'y_title': 'y axis title'}\n",
    "\n",
    "# cargar funcion importada desde GIST de visualizaciones\n",
    "ohlc = vs['g_ohlc'](p_ohlc=data, p_theme=p_theme, p_dims=p_dims, p_vlines=p_vlines, p_labels=p_labels)\n",
    "\n",
    "# mostrar plot\n",
    "# ohlc.show()\n",
    "\n",
    "# -- ------------------------------------------------------------------------------- Feature Engineering -- #\n",
    "\n",
    "# ingenieria de caracteristicas con variable endogena\n",
    "data_features = fn.f_features(p_data=data)\n",
    "\n",
    "# muestra de los features\n",
    "data_features.head()\n",
    "print(type(data_features))\n",
    "\n",
    "# -- ---------------------------------------------------------------------------------- Feature analysis -- #\n",
    "\n",
    "# matriz de correlacion\n",
    "cor_mat = data_features.iloc[:, 1:-1].corr()\n",
    "\n",
    "# -- ---------------------------------------------------------------------------- TimeSeries Block Split -- #\n",
    "\n",
    "# opciones para definir los bloques\n",
    "split = {'a': {'1sem'}, 'b': {'2sem'}, 'c': {'3sem'}, 'd': {'4sem'}, 'model': {'changepoint'}}\n",
    "\n",
    "# funcion para definir bloques\n",
    "bloques = fn.f_tsbs(p_data=data_features)\n",
    "\n",
    "# -- ----------------------------------------------------------------------------------------- Model fit -- #\n",
    "alphas = [1e-5, 1e-3, 1e-2, 1, 1e2, 1e3, 1e5]\n",
    "models = fn.mult_regression(p_x=data_features.iloc[:, 3:-1],\n",
    "                            p_y=data_features.iloc[:, 1],\n",
    "                            p_alpha=alphas[1], p_iter=1e6)\n",
    "print(models)"
   ]
  },
  {
   "cell_type": "code",
   "execution_count": 2,
   "metadata": {},
   "outputs": [
    {
     "name": "stdout",
     "output_type": "stream",
     "text": [
      "    |   Population Average    |             Best Individual              |\n",
      "---- ------------------------- ------------------------------------------ ----------\n",
      " Gen   Length          Fitness   Length          Fitness      OOB Fitness  Time Left\n",
      "   0    13.32       1.5829e+10       11           502526              N/A      2.21m\n",
      "   1    10.30      1.49629e+07       15           490587              N/A      1.29m\n",
      "   2    17.16      1.26969e+06       20           463648              N/A      1.66m\n",
      "   3    21.50      1.05228e+06       19           461270              N/A      1.73m\n",
      "   4    17.26      2.57479e+06       29           441941              N/A      1.69m\n",
      "   5    18.06      1.85654e+06       29           441941              N/A      1.61m\n",
      "   6    21.95      1.08879e+06       33           435558              N/A      1.57m\n",
      "   7    26.79      2.44673e+06       29           434172              N/A      1.56m\n",
      "   8    29.55      2.20881e+07       33           413143              N/A      1.53m\n",
      "   9    31.49      2.62775e+06       33           413792              N/A      1.57m\n",
      "  10    35.66      6.29861e+07       60           408154              N/A      1.46m\n",
      "  11    40.95      4.30599e+06       51           401368              N/A      1.37m\n",
      "  12    41.01      3.69357e+06       60           395238              N/A      1.14m\n",
      "  13    43.60      7.64962e+06       60           366613              N/A      1.06m\n",
      "  14    52.65      5.75478e+06       60           360726              N/A     54.31s\n",
      "  15    60.55      2.37805e+06       97           344840              N/A     53.50s\n",
      "  16    69.13      3.59367e+06       85           318198              N/A     42.32s\n",
      "  17    89.23      6.56257e+06       85           318198              N/A     25.62s\n",
      "  18    98.68      3.51007e+06       91           308462              N/A     13.94s\n",
      "  19    97.27      5.20513e+06      135           296637              N/A      0.00s\n",
      "0.4486181081322621\n"
     ]
    }
   ],
   "source": [
    "symbolic, dot = fn.symbolic_regression(p_x=data_features.iloc[:, 3:-1], p_y=data_features.iloc[:, 1])"
   ]
  },
  {
   "cell_type": "code",
   "execution_count": 5,
   "metadata": {},
   "outputs": [
    {
     "ename": "ExecutableNotFound",
     "evalue": "failed to execute ['dot', '-Tsvg'], make sure the Graphviz executables are on your systems' PATH",
     "output_type": "error",
     "traceback": [
      "\u001b[1;31m---------------------------------------------------------------------------\u001b[0m",
      "\u001b[1;31mFileNotFoundError\u001b[0m                         Traceback (most recent call last)",
      "\u001b[1;32m~\\Anaconda3\\lib\\site-packages\\graphviz\\backend.py\u001b[0m in \u001b[0;36mrun\u001b[1;34m(cmd, input, capture_output, check, encoding, quiet, **kwargs)\u001b[0m\n\u001b[0;32m    163\u001b[0m     \u001b[1;32mtry\u001b[0m\u001b[1;33m:\u001b[0m\u001b[1;33m\u001b[0m\u001b[0m\n\u001b[1;32m--> 164\u001b[1;33m         \u001b[0mproc\u001b[0m \u001b[1;33m=\u001b[0m \u001b[0msubprocess\u001b[0m\u001b[1;33m.\u001b[0m\u001b[0mPopen\u001b[0m\u001b[1;33m(\u001b[0m\u001b[0mcmd\u001b[0m\u001b[1;33m,\u001b[0m \u001b[0mstartupinfo\u001b[0m\u001b[1;33m=\u001b[0m\u001b[0mget_startupinfo\u001b[0m\u001b[1;33m(\u001b[0m\u001b[1;33m)\u001b[0m\u001b[1;33m,\u001b[0m \u001b[1;33m**\u001b[0m\u001b[0mkwargs\u001b[0m\u001b[1;33m)\u001b[0m\u001b[1;33m\u001b[0m\u001b[0m\n\u001b[0m\u001b[0;32m    165\u001b[0m     \u001b[1;32mexcept\u001b[0m \u001b[0mOSError\u001b[0m \u001b[1;32mas\u001b[0m \u001b[0me\u001b[0m\u001b[1;33m:\u001b[0m\u001b[1;33m\u001b[0m\u001b[0m\n",
      "\u001b[1;32m~\\Anaconda3\\lib\\subprocess.py\u001b[0m in \u001b[0;36m__init__\u001b[1;34m(self, args, bufsize, executable, stdin, stdout, stderr, preexec_fn, close_fds, shell, cwd, env, universal_newlines, startupinfo, creationflags, restore_signals, start_new_session, pass_fds, encoding, errors)\u001b[0m\n\u001b[0;32m    708\u001b[0m                                 \u001b[0merrread\u001b[0m\u001b[1;33m,\u001b[0m \u001b[0merrwrite\u001b[0m\u001b[1;33m,\u001b[0m\u001b[1;33m\u001b[0m\u001b[0m\n\u001b[1;32m--> 709\u001b[1;33m                                 restore_signals, start_new_session)\n\u001b[0m\u001b[0;32m    710\u001b[0m         \u001b[1;32mexcept\u001b[0m\u001b[1;33m:\u001b[0m\u001b[1;33m\u001b[0m\u001b[0m\n",
      "\u001b[1;32m~\\Anaconda3\\lib\\subprocess.py\u001b[0m in \u001b[0;36m_execute_child\u001b[1;34m(self, args, executable, preexec_fn, close_fds, pass_fds, cwd, env, startupinfo, creationflags, shell, p2cread, p2cwrite, c2pread, c2pwrite, errread, errwrite, unused_restore_signals, unused_start_new_session)\u001b[0m\n\u001b[0;32m    996\u001b[0m                                          \u001b[0mos\u001b[0m\u001b[1;33m.\u001b[0m\u001b[0mfspath\u001b[0m\u001b[1;33m(\u001b[0m\u001b[0mcwd\u001b[0m\u001b[1;33m)\u001b[0m \u001b[1;32mif\u001b[0m \u001b[0mcwd\u001b[0m \u001b[1;32mis\u001b[0m \u001b[1;32mnot\u001b[0m \u001b[1;32mNone\u001b[0m \u001b[1;32melse\u001b[0m \u001b[1;32mNone\u001b[0m\u001b[1;33m,\u001b[0m\u001b[1;33m\u001b[0m\u001b[0m\n\u001b[1;32m--> 997\u001b[1;33m                                          startupinfo)\n\u001b[0m\u001b[0;32m    998\u001b[0m             \u001b[1;32mfinally\u001b[0m\u001b[1;33m:\u001b[0m\u001b[1;33m\u001b[0m\u001b[0m\n",
      "\u001b[1;31mFileNotFoundError\u001b[0m: [WinError 2] El sistema no puede encontrar el archivo especificado",
      "\nDuring handling of the above exception, another exception occurred:\n",
      "\u001b[1;31mExecutableNotFound\u001b[0m                        Traceback (most recent call last)",
      "\u001b[1;32m~\\Anaconda3\\lib\\site-packages\\IPython\\core\\formatters.py\u001b[0m in \u001b[0;36m__call__\u001b[1;34m(self, obj)\u001b[0m\n\u001b[0;32m    343\u001b[0m             \u001b[0mmethod\u001b[0m \u001b[1;33m=\u001b[0m \u001b[0mget_real_method\u001b[0m\u001b[1;33m(\u001b[0m\u001b[0mobj\u001b[0m\u001b[1;33m,\u001b[0m \u001b[0mself\u001b[0m\u001b[1;33m.\u001b[0m\u001b[0mprint_method\u001b[0m\u001b[1;33m)\u001b[0m\u001b[1;33m\u001b[0m\u001b[0m\n\u001b[0;32m    344\u001b[0m             \u001b[1;32mif\u001b[0m \u001b[0mmethod\u001b[0m \u001b[1;32mis\u001b[0m \u001b[1;32mnot\u001b[0m \u001b[1;32mNone\u001b[0m\u001b[1;33m:\u001b[0m\u001b[1;33m\u001b[0m\u001b[0m\n\u001b[1;32m--> 345\u001b[1;33m                 \u001b[1;32mreturn\u001b[0m \u001b[0mmethod\u001b[0m\u001b[1;33m(\u001b[0m\u001b[1;33m)\u001b[0m\u001b[1;33m\u001b[0m\u001b[0m\n\u001b[0m\u001b[0;32m    346\u001b[0m             \u001b[1;32mreturn\u001b[0m \u001b[1;32mNone\u001b[0m\u001b[1;33m\u001b[0m\u001b[0m\n\u001b[0;32m    347\u001b[0m         \u001b[1;32melse\u001b[0m\u001b[1;33m:\u001b[0m\u001b[1;33m\u001b[0m\u001b[0m\n",
      "\u001b[1;32m~\\Anaconda3\\lib\\site-packages\\graphviz\\files.py\u001b[0m in \u001b[0;36m_repr_svg_\u001b[1;34m(self)\u001b[0m\n\u001b[0;32m    111\u001b[0m \u001b[1;33m\u001b[0m\u001b[0m\n\u001b[0;32m    112\u001b[0m     \u001b[1;32mdef\u001b[0m \u001b[0m_repr_svg_\u001b[0m\u001b[1;33m(\u001b[0m\u001b[0mself\u001b[0m\u001b[1;33m)\u001b[0m\u001b[1;33m:\u001b[0m\u001b[1;33m\u001b[0m\u001b[0m\n\u001b[1;32m--> 113\u001b[1;33m         \u001b[1;32mreturn\u001b[0m \u001b[0mself\u001b[0m\u001b[1;33m.\u001b[0m\u001b[0mpipe\u001b[0m\u001b[1;33m(\u001b[0m\u001b[0mformat\u001b[0m\u001b[1;33m=\u001b[0m\u001b[1;34m'svg'\u001b[0m\u001b[1;33m)\u001b[0m\u001b[1;33m.\u001b[0m\u001b[0mdecode\u001b[0m\u001b[1;33m(\u001b[0m\u001b[0mself\u001b[0m\u001b[1;33m.\u001b[0m\u001b[0m_encoding\u001b[0m\u001b[1;33m)\u001b[0m\u001b[1;33m\u001b[0m\u001b[0m\n\u001b[0m\u001b[0;32m    114\u001b[0m \u001b[1;33m\u001b[0m\u001b[0m\n\u001b[0;32m    115\u001b[0m     \u001b[1;32mdef\u001b[0m \u001b[0mpipe\u001b[0m\u001b[1;33m(\u001b[0m\u001b[0mself\u001b[0m\u001b[1;33m,\u001b[0m \u001b[0mformat\u001b[0m\u001b[1;33m=\u001b[0m\u001b[1;32mNone\u001b[0m\u001b[1;33m,\u001b[0m \u001b[0mrenderer\u001b[0m\u001b[1;33m=\u001b[0m\u001b[1;32mNone\u001b[0m\u001b[1;33m,\u001b[0m \u001b[0mformatter\u001b[0m\u001b[1;33m=\u001b[0m\u001b[1;32mNone\u001b[0m\u001b[1;33m,\u001b[0m \u001b[0mquiet\u001b[0m\u001b[1;33m=\u001b[0m\u001b[1;32mFalse\u001b[0m\u001b[1;33m)\u001b[0m\u001b[1;33m:\u001b[0m\u001b[1;33m\u001b[0m\u001b[0m\n",
      "\u001b[1;32m~\\Anaconda3\\lib\\site-packages\\graphviz\\files.py\u001b[0m in \u001b[0;36mpipe\u001b[1;34m(self, format, renderer, formatter, quiet)\u001b[0m\n\u001b[0;32m    136\u001b[0m         out = backend.pipe(self._engine, format, data,\n\u001b[0;32m    137\u001b[0m                            \u001b[0mrenderer\u001b[0m\u001b[1;33m=\u001b[0m\u001b[0mrenderer\u001b[0m\u001b[1;33m,\u001b[0m \u001b[0mformatter\u001b[0m\u001b[1;33m=\u001b[0m\u001b[0mformatter\u001b[0m\u001b[1;33m,\u001b[0m\u001b[1;33m\u001b[0m\u001b[0m\n\u001b[1;32m--> 138\u001b[1;33m                            quiet=quiet)\n\u001b[0m\u001b[0;32m    139\u001b[0m \u001b[1;33m\u001b[0m\u001b[0m\n\u001b[0;32m    140\u001b[0m         \u001b[1;32mreturn\u001b[0m \u001b[0mout\u001b[0m\u001b[1;33m\u001b[0m\u001b[0m\n",
      "\u001b[1;32m~\\Anaconda3\\lib\\site-packages\\graphviz\\backend.py\u001b[0m in \u001b[0;36mpipe\u001b[1;34m(engine, format, data, renderer, formatter, quiet)\u001b[0m\n\u001b[0;32m    242\u001b[0m     \"\"\"\n\u001b[0;32m    243\u001b[0m     \u001b[0mcmd\u001b[0m\u001b[1;33m,\u001b[0m \u001b[0m_\u001b[0m \u001b[1;33m=\u001b[0m \u001b[0mcommand\u001b[0m\u001b[1;33m(\u001b[0m\u001b[0mengine\u001b[0m\u001b[1;33m,\u001b[0m \u001b[0mformat\u001b[0m\u001b[1;33m,\u001b[0m \u001b[1;32mNone\u001b[0m\u001b[1;33m,\u001b[0m \u001b[0mrenderer\u001b[0m\u001b[1;33m,\u001b[0m \u001b[0mformatter\u001b[0m\u001b[1;33m)\u001b[0m\u001b[1;33m\u001b[0m\u001b[0m\n\u001b[1;32m--> 244\u001b[1;33m     \u001b[0mout\u001b[0m\u001b[1;33m,\u001b[0m \u001b[0m_\u001b[0m \u001b[1;33m=\u001b[0m \u001b[0mrun\u001b[0m\u001b[1;33m(\u001b[0m\u001b[0mcmd\u001b[0m\u001b[1;33m,\u001b[0m \u001b[0minput\u001b[0m\u001b[1;33m=\u001b[0m\u001b[0mdata\u001b[0m\u001b[1;33m,\u001b[0m \u001b[0mcapture_output\u001b[0m\u001b[1;33m=\u001b[0m\u001b[1;32mTrue\u001b[0m\u001b[1;33m,\u001b[0m \u001b[0mcheck\u001b[0m\u001b[1;33m=\u001b[0m\u001b[1;32mTrue\u001b[0m\u001b[1;33m,\u001b[0m \u001b[0mquiet\u001b[0m\u001b[1;33m=\u001b[0m\u001b[0mquiet\u001b[0m\u001b[1;33m)\u001b[0m\u001b[1;33m\u001b[0m\u001b[0m\n\u001b[0m\u001b[0;32m    245\u001b[0m     \u001b[1;32mreturn\u001b[0m \u001b[0mout\u001b[0m\u001b[1;33m\u001b[0m\u001b[0m\n\u001b[0;32m    246\u001b[0m \u001b[1;33m\u001b[0m\u001b[0m\n",
      "\u001b[1;32m~\\Anaconda3\\lib\\site-packages\\graphviz\\backend.py\u001b[0m in \u001b[0;36mrun\u001b[1;34m(cmd, input, capture_output, check, encoding, quiet, **kwargs)\u001b[0m\n\u001b[0;32m    165\u001b[0m     \u001b[1;32mexcept\u001b[0m \u001b[0mOSError\u001b[0m \u001b[1;32mas\u001b[0m \u001b[0me\u001b[0m\u001b[1;33m:\u001b[0m\u001b[1;33m\u001b[0m\u001b[0m\n\u001b[0;32m    166\u001b[0m         \u001b[1;32mif\u001b[0m \u001b[0me\u001b[0m\u001b[1;33m.\u001b[0m\u001b[0merrno\u001b[0m \u001b[1;33m==\u001b[0m \u001b[0merrno\u001b[0m\u001b[1;33m.\u001b[0m\u001b[0mENOENT\u001b[0m\u001b[1;33m:\u001b[0m\u001b[1;33m\u001b[0m\u001b[0m\n\u001b[1;32m--> 167\u001b[1;33m             \u001b[1;32mraise\u001b[0m \u001b[0mExecutableNotFound\u001b[0m\u001b[1;33m(\u001b[0m\u001b[0mcmd\u001b[0m\u001b[1;33m)\u001b[0m\u001b[1;33m\u001b[0m\u001b[0m\n\u001b[0m\u001b[0;32m    168\u001b[0m         \u001b[1;32melse\u001b[0m\u001b[1;33m:\u001b[0m\u001b[1;33m\u001b[0m\u001b[0m\n\u001b[0;32m    169\u001b[0m             \u001b[1;32mraise\u001b[0m\u001b[1;33m\u001b[0m\u001b[0m\n",
      "\u001b[1;31mExecutableNotFound\u001b[0m: failed to execute ['dot', '-Tsvg'], make sure the Graphviz executables are on your systems' PATH"
     ]
    },
    {
     "data": {
      "text/plain": [
       "<graphviz.files.Source at 0x1afbf3157f0>"
      ]
     },
     "execution_count": 5,
     "metadata": {},
     "output_type": "execute_result"
    }
   ],
   "source": [
    "\n",
    "dot"
   ]
  },
  {
   "cell_type": "markdown",
   "metadata": {},
   "source": [
    "<br>"
   ]
  },
  {
   "cell_type": "markdown",
   "metadata": {},
   "source": [
    "# <font color= #6B6B6B> <font size = 6> 5. Conclusiones </font>"
   ]
  },
  {
   "cell_type": "markdown",
   "metadata": {},
   "source": [
    "<hr style=\"border:0.02in solid gray\"> </hr>"
   ]
  },
  {
   "cell_type": "markdown",
   "metadata": {},
   "source": []
  },
  {
   "cell_type": "code",
   "execution_count": 3,
   "metadata": {},
   "outputs": [],
   "source": [
    "# en esta seccion es opcional incluir algun codigo para mostrar\n",
    "# visualmente algun concepto o hallazgo relevante como conclusion"
   ]
  }
 ],
 "metadata": {
  "kernelspec": {
   "display_name": "Python 3",
   "language": "python",
   "name": "python3"
  },
  "language_info": {
   "codemirror_mode": {
    "name": "ipython",
    "version": 3
   },
   "file_extension": ".py",
   "mimetype": "text/x-python",
   "name": "python",
   "nbconvert_exporter": "python",
   "pygments_lexer": "ipython3",
   "version": "3.6.5"
  }
 },
 "nbformat": 4,
 "nbformat_minor": 1
}
